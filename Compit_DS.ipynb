{
 "cells": [
  {
   "cell_type": "code",
   "execution_count": 1,
   "metadata": {},
   "outputs": [],
   "source": [
    "import pandas as pd\n",
    "import numpy as np\n",
    "import matplotlib.pyplot as plt\n",
    "import seaborn as sns"
   ]
  },
  {
   "cell_type": "code",
   "execution_count": 2,
   "metadata": {},
   "outputs": [
    {
     "name": "stdout",
     "output_type": "stream",
     "text": [
      "Collecting seaborn\n",
      "  Downloading seaborn-0.13.2-py3-none-any.whl.metadata (5.4 kB)\n",
      "Requirement already satisfied: numpy!=1.24.0,>=1.20 in /system/conda/miniconda3/envs/cloudspace/lib/python3.10/site-packages (from seaborn) (1.26.2)\n",
      "Requirement already satisfied: pandas>=1.2 in /system/conda/miniconda3/envs/cloudspace/lib/python3.10/site-packages (from seaborn) (2.1.4)\n",
      "Requirement already satisfied: matplotlib!=3.6.1,>=3.4 in /system/conda/miniconda3/envs/cloudspace/lib/python3.10/site-packages (from seaborn) (3.8.2)\n",
      "Requirement already satisfied: contourpy>=1.0.1 in /system/conda/miniconda3/envs/cloudspace/lib/python3.10/site-packages (from matplotlib!=3.6.1,>=3.4->seaborn) (1.2.1)\n",
      "Requirement already satisfied: cycler>=0.10 in /system/conda/miniconda3/envs/cloudspace/lib/python3.10/site-packages (from matplotlib!=3.6.1,>=3.4->seaborn) (0.12.1)\n",
      "Requirement already satisfied: fonttools>=4.22.0 in /system/conda/miniconda3/envs/cloudspace/lib/python3.10/site-packages (from matplotlib!=3.6.1,>=3.4->seaborn) (4.51.0)\n",
      "Requirement already satisfied: kiwisolver>=1.3.1 in /system/conda/miniconda3/envs/cloudspace/lib/python3.10/site-packages (from matplotlib!=3.6.1,>=3.4->seaborn) (1.4.5)\n",
      "Requirement already satisfied: packaging>=20.0 in /system/conda/miniconda3/envs/cloudspace/lib/python3.10/site-packages (from matplotlib!=3.6.1,>=3.4->seaborn) (24.0)\n",
      "Requirement already satisfied: pillow>=8 in /system/conda/miniconda3/envs/cloudspace/lib/python3.10/site-packages (from matplotlib!=3.6.1,>=3.4->seaborn) (10.3.0)\n",
      "Requirement already satisfied: pyparsing>=2.3.1 in /system/conda/miniconda3/envs/cloudspace/lib/python3.10/site-packages (from matplotlib!=3.6.1,>=3.4->seaborn) (3.1.2)\n",
      "Requirement already satisfied: python-dateutil>=2.7 in /system/conda/miniconda3/envs/cloudspace/lib/python3.10/site-packages (from matplotlib!=3.6.1,>=3.4->seaborn) (2.9.0.post0)\n",
      "Requirement already satisfied: pytz>=2020.1 in /system/conda/miniconda3/envs/cloudspace/lib/python3.10/site-packages (from pandas>=1.2->seaborn) (2024.1)\n",
      "Requirement already satisfied: tzdata>=2022.1 in /system/conda/miniconda3/envs/cloudspace/lib/python3.10/site-packages (from pandas>=1.2->seaborn) (2024.1)\n",
      "Requirement already satisfied: six>=1.5 in /system/conda/miniconda3/envs/cloudspace/lib/python3.10/site-packages (from python-dateutil>=2.7->matplotlib!=3.6.1,>=3.4->seaborn) (1.16.0)\n",
      "Downloading seaborn-0.13.2-py3-none-any.whl (294 kB)\n",
      "\u001b[2K   \u001b[90m━━━━━━━━━━━━━━━━━━━━━━━━━━━━━━━━━━━━━━━━\u001b[0m \u001b[32m294.9/294.9 kB\u001b[0m \u001b[31m18.6 MB/s\u001b[0m eta \u001b[36m0:00:00\u001b[0m\n",
      "\u001b[?25hInstalling collected packages: seaborn\n",
      "Successfully installed seaborn-0.13.2\n",
      "Note: you may need to restart the kernel to use updated packages.\n"
     ]
    }
   ],
   "source": [
    "pip install seaborn"
   ]
  },
  {
   "cell_type": "code",
   "execution_count": 2,
   "metadata": {},
   "outputs": [
    {
     "data": {
      "text/html": [
       "<div>\n",
       "<style scoped>\n",
       "    .dataframe tbody tr th:only-of-type {\n",
       "        vertical-align: middle;\n",
       "    }\n",
       "\n",
       "    .dataframe tbody tr th {\n",
       "        vertical-align: top;\n",
       "    }\n",
       "\n",
       "    .dataframe thead th {\n",
       "        text-align: right;\n",
       "    }\n",
       "</style>\n",
       "<table border=\"1\" class=\"dataframe\">\n",
       "  <thead>\n",
       "    <tr style=\"text-align: right;\">\n",
       "      <th></th>\n",
       "      <th>car_id</th>\n",
       "      <th>model</th>\n",
       "      <th>car_type</th>\n",
       "      <th>fuel_type</th>\n",
       "      <th>car_rating</th>\n",
       "      <th>year_to_start</th>\n",
       "      <th>riders</th>\n",
       "      <th>year_to_work</th>\n",
       "      <th>target_reg</th>\n",
       "      <th>target_class</th>\n",
       "    </tr>\n",
       "  </thead>\n",
       "  <tbody>\n",
       "    <tr>\n",
       "      <th>2042</th>\n",
       "      <td>V-2042242Z</td>\n",
       "      <td>Smart ForTwo</td>\n",
       "      <td>economy</td>\n",
       "      <td>petrol</td>\n",
       "      <td>4.60</td>\n",
       "      <td>2017</td>\n",
       "      <td>124372</td>\n",
       "      <td>2014</td>\n",
       "      <td>52.21</td>\n",
       "      <td>engine_check</td>\n",
       "    </tr>\n",
       "    <tr>\n",
       "      <th>335</th>\n",
       "      <td>A-3756325r</td>\n",
       "      <td>VW Tiguan</td>\n",
       "      <td>economy</td>\n",
       "      <td>petrol</td>\n",
       "      <td>4.12</td>\n",
       "      <td>2016</td>\n",
       "      <td>109459</td>\n",
       "      <td>2019</td>\n",
       "      <td>37.48</td>\n",
       "      <td>break_bug</td>\n",
       "    </tr>\n",
       "    <tr>\n",
       "      <th>568</th>\n",
       "      <td>b15966462n</td>\n",
       "      <td>Kia Rio X-line</td>\n",
       "      <td>economy</td>\n",
       "      <td>petrol</td>\n",
       "      <td>3.98</td>\n",
       "      <td>2014</td>\n",
       "      <td>72725</td>\n",
       "      <td>2019</td>\n",
       "      <td>33.16</td>\n",
       "      <td>wheel_shake</td>\n",
       "    </tr>\n",
       "    <tr>\n",
       "      <th>505</th>\n",
       "      <td>i-1106718P</td>\n",
       "      <td>Tesla Model 3</td>\n",
       "      <td>premium</td>\n",
       "      <td>electro</td>\n",
       "      <td>4.72</td>\n",
       "      <td>2015</td>\n",
       "      <td>75786</td>\n",
       "      <td>2017</td>\n",
       "      <td>119.84</td>\n",
       "      <td>engine_ignition</td>\n",
       "    </tr>\n",
       "    <tr>\n",
       "      <th>2336</th>\n",
       "      <td>z-1337463D</td>\n",
       "      <td>VW Polo</td>\n",
       "      <td>economy</td>\n",
       "      <td>petrol</td>\n",
       "      <td>3.94</td>\n",
       "      <td>2015</td>\n",
       "      <td>92312</td>\n",
       "      <td>2016</td>\n",
       "      <td>54.68</td>\n",
       "      <td>engine_check</td>\n",
       "    </tr>\n",
       "  </tbody>\n",
       "</table>\n",
       "</div>"
      ],
      "text/plain": [
       "          car_id           model car_type fuel_type  car_rating  \\\n",
       "2042  V-2042242Z    Smart ForTwo  economy    petrol        4.60   \n",
       "335   A-3756325r       VW Tiguan  economy    petrol        4.12   \n",
       "568   b15966462n  Kia Rio X-line  economy    petrol        3.98   \n",
       "505   i-1106718P   Tesla Model 3  premium   electro        4.72   \n",
       "2336  z-1337463D         VW Polo  economy    petrol        3.94   \n",
       "\n",
       "      year_to_start  riders  year_to_work  target_reg     target_class  \n",
       "2042           2017  124372          2014       52.21     engine_check  \n",
       "335            2016  109459          2019       37.48        break_bug  \n",
       "568            2014   72725          2019       33.16      wheel_shake  \n",
       "505            2015   75786          2017      119.84  engine_ignition  \n",
       "2336           2015   92312          2016       54.68     engine_check  "
      ]
     },
     "execution_count": 2,
     "metadata": {},
     "output_type": "execute_result"
    }
   ],
   "source": [
    "car_train = pd.read_csv('https://raw.githubusercontent.com/a-milenkin/Competitive_Data_Science/main/data/car_train.csv')\n",
    "car_train.sample(5)"
   ]
  },
  {
   "cell_type": "code",
   "execution_count": 3,
   "metadata": {},
   "outputs": [
    {
     "data": {
      "text/html": [
       "<div>\n",
       "<style scoped>\n",
       "    .dataframe tbody tr th:only-of-type {\n",
       "        vertical-align: middle;\n",
       "    }\n",
       "\n",
       "    .dataframe tbody tr th {\n",
       "        vertical-align: top;\n",
       "    }\n",
       "\n",
       "    .dataframe thead th {\n",
       "        text-align: right;\n",
       "    }\n",
       "</style>\n",
       "<table border=\"1\" class=\"dataframe\">\n",
       "  <thead>\n",
       "    <tr style=\"text-align: right;\">\n",
       "      <th></th>\n",
       "      <th>user_id</th>\n",
       "      <th>car_id</th>\n",
       "      <th>ride_id</th>\n",
       "      <th>ride_date</th>\n",
       "      <th>rating</th>\n",
       "      <th>ride_duration</th>\n",
       "      <th>ride_cost</th>\n",
       "      <th>speed_avg</th>\n",
       "      <th>speed_max</th>\n",
       "      <th>stop_times</th>\n",
       "      <th>distance</th>\n",
       "      <th>refueling</th>\n",
       "      <th>user_ride_quality</th>\n",
       "      <th>deviation_normal</th>\n",
       "    </tr>\n",
       "  </thead>\n",
       "  <tbody>\n",
       "    <tr>\n",
       "      <th>643820</th>\n",
       "      <td>V16808405V</td>\n",
       "      <td>t12980699M</td>\n",
       "      <td>Z1d</td>\n",
       "      <td>2020-01-11</td>\n",
       "      <td>2.12</td>\n",
       "      <td>62</td>\n",
       "      <td>739</td>\n",
       "      <td>35</td>\n",
       "      <td>73.000000</td>\n",
       "      <td>2</td>\n",
       "      <td>1869.037617</td>\n",
       "      <td>0</td>\n",
       "      <td>-11.433614</td>\n",
       "      <td>-0.000</td>\n",
       "    </tr>\n",
       "    <tr>\n",
       "      <th>137586</th>\n",
       "      <td>s20879491c</td>\n",
       "      <td>J30439877U</td>\n",
       "      <td>U1X</td>\n",
       "      <td>2020-03-08</td>\n",
       "      <td>2.89</td>\n",
       "      <td>65</td>\n",
       "      <td>581</td>\n",
       "      <td>48</td>\n",
       "      <td>139.666739</td>\n",
       "      <td>1</td>\n",
       "      <td>2129.564969</td>\n",
       "      <td>0</td>\n",
       "      <td>-13.420831</td>\n",
       "      <td>-5.559</td>\n",
       "    </tr>\n",
       "    <tr>\n",
       "      <th>715870</th>\n",
       "      <td>P18328419v</td>\n",
       "      <td>y-7520188c</td>\n",
       "      <td>y1N</td>\n",
       "      <td>2020-01-19</td>\n",
       "      <td>3.74</td>\n",
       "      <td>25</td>\n",
       "      <td>246</td>\n",
       "      <td>50</td>\n",
       "      <td>69.000000</td>\n",
       "      <td>2</td>\n",
       "      <td>1282.948769</td>\n",
       "      <td>0</td>\n",
       "      <td>0.377504</td>\n",
       "      <td>0.000</td>\n",
       "    </tr>\n",
       "    <tr>\n",
       "      <th>614975</th>\n",
       "      <td>U72032422y</td>\n",
       "      <td>r12315595Q</td>\n",
       "      <td>m1O</td>\n",
       "      <td>2020-02-01</td>\n",
       "      <td>3.64</td>\n",
       "      <td>22</td>\n",
       "      <td>301</td>\n",
       "      <td>68</td>\n",
       "      <td>135.730680</td>\n",
       "      <td>0</td>\n",
       "      <td>1543.868510</td>\n",
       "      <td>0</td>\n",
       "      <td>8.732781</td>\n",
       "      <td>0.000</td>\n",
       "    </tr>\n",
       "    <tr>\n",
       "      <th>108476</th>\n",
       "      <td>P38618742Q</td>\n",
       "      <td>H22971297C</td>\n",
       "      <td>K1f</td>\n",
       "      <td>2020-02-09</td>\n",
       "      <td>1.34</td>\n",
       "      <td>42</td>\n",
       "      <td>666</td>\n",
       "      <td>47</td>\n",
       "      <td>53.000000</td>\n",
       "      <td>0</td>\n",
       "      <td>1842.895896</td>\n",
       "      <td>0</td>\n",
       "      <td>-11.842514</td>\n",
       "      <td>5.034</td>\n",
       "    </tr>\n",
       "  </tbody>\n",
       "</table>\n",
       "</div>"
      ],
      "text/plain": [
       "           user_id      car_id ride_id   ride_date  rating  ride_duration  \\\n",
       "643820  V16808405V  t12980699M     Z1d  2020-01-11    2.12             62   \n",
       "137586  s20879491c  J30439877U     U1X  2020-03-08    2.89             65   \n",
       "715870  P18328419v  y-7520188c     y1N  2020-01-19    3.74             25   \n",
       "614975  U72032422y  r12315595Q     m1O  2020-02-01    3.64             22   \n",
       "108476  P38618742Q  H22971297C     K1f  2020-02-09    1.34             42   \n",
       "\n",
       "        ride_cost  speed_avg   speed_max  stop_times     distance  refueling  \\\n",
       "643820        739         35   73.000000           2  1869.037617          0   \n",
       "137586        581         48  139.666739           1  2129.564969          0   \n",
       "715870        246         50   69.000000           2  1282.948769          0   \n",
       "614975        301         68  135.730680           0  1543.868510          0   \n",
       "108476        666         47   53.000000           0  1842.895896          0   \n",
       "\n",
       "        user_ride_quality  deviation_normal  \n",
       "643820         -11.433614            -0.000  \n",
       "137586         -13.420831            -5.559  \n",
       "715870           0.377504             0.000  \n",
       "614975           8.732781             0.000  \n",
       "108476         -11.842514             5.034  "
      ]
     },
     "execution_count": 3,
     "metadata": {},
     "output_type": "execute_result"
    }
   ],
   "source": [
    "rides_info = pd.read_csv('https://raw.githubusercontent.com/a-milenkin/Competitive_Data_Science/main/data/rides_info.csv')\n",
    "rides_info.sample(5)"
   ]
  },
  {
   "cell_type": "code",
   "execution_count": 4,
   "metadata": {},
   "outputs": [
    {
     "data": {
      "text/html": [
       "<div>\n",
       "<style scoped>\n",
       "    .dataframe tbody tr th:only-of-type {\n",
       "        vertical-align: middle;\n",
       "    }\n",
       "\n",
       "    .dataframe tbody tr th {\n",
       "        vertical-align: top;\n",
       "    }\n",
       "\n",
       "    .dataframe thead th {\n",
       "        text-align: right;\n",
       "    }\n",
       "</style>\n",
       "<table border=\"1\" class=\"dataframe\">\n",
       "  <thead>\n",
       "    <tr style=\"text-align: right;\">\n",
       "      <th></th>\n",
       "      <th>age</th>\n",
       "      <th>user_rating</th>\n",
       "      <th>user_rides</th>\n",
       "      <th>user_time_accident</th>\n",
       "      <th>user_id</th>\n",
       "      <th>sex</th>\n",
       "      <th>first_ride_date</th>\n",
       "    </tr>\n",
       "  </thead>\n",
       "  <tbody>\n",
       "    <tr>\n",
       "      <th>6521</th>\n",
       "      <td>47</td>\n",
       "      <td>7.5</td>\n",
       "      <td>182</td>\n",
       "      <td>1.0</td>\n",
       "      <td>S19033373y</td>\n",
       "      <td>0</td>\n",
       "      <td>2020-3-28</td>\n",
       "    </tr>\n",
       "    <tr>\n",
       "      <th>8718</th>\n",
       "      <td>40</td>\n",
       "      <td>8.2</td>\n",
       "      <td>974</td>\n",
       "      <td>9.0</td>\n",
       "      <td>H74042965w</td>\n",
       "      <td>0</td>\n",
       "      <td>2019-2-30</td>\n",
       "    </tr>\n",
       "    <tr>\n",
       "      <th>7927</th>\n",
       "      <td>45</td>\n",
       "      <td>7.9</td>\n",
       "      <td>778</td>\n",
       "      <td>5.0</td>\n",
       "      <td>c80605673j</td>\n",
       "      <td>0</td>\n",
       "      <td>2019-4-22</td>\n",
       "    </tr>\n",
       "    <tr>\n",
       "      <th>6597</th>\n",
       "      <td>39</td>\n",
       "      <td>8.6</td>\n",
       "      <td>651</td>\n",
       "      <td>8.0</td>\n",
       "      <td>S17903865S</td>\n",
       "      <td>1</td>\n",
       "      <td>2020-8-3</td>\n",
       "    </tr>\n",
       "    <tr>\n",
       "      <th>5038</th>\n",
       "      <td>24</td>\n",
       "      <td>7.6</td>\n",
       "      <td>694</td>\n",
       "      <td>11.0</td>\n",
       "      <td>f22987070B</td>\n",
       "      <td>0</td>\n",
       "      <td>2019-5-15</td>\n",
       "    </tr>\n",
       "  </tbody>\n",
       "</table>\n",
       "</div>"
      ],
      "text/plain": [
       "      age  user_rating  user_rides  user_time_accident     user_id  sex  \\\n",
       "6521   47          7.5         182                 1.0  S19033373y    0   \n",
       "8718   40          8.2         974                 9.0  H74042965w    0   \n",
       "7927   45          7.9         778                 5.0  c80605673j    0   \n",
       "6597   39          8.6         651                 8.0  S17903865S    1   \n",
       "5038   24          7.6         694                11.0  f22987070B    0   \n",
       "\n",
       "     first_ride_date  \n",
       "6521       2020-3-28  \n",
       "8718       2019-2-30  \n",
       "7927       2019-4-22  \n",
       "6597        2020-8-3  \n",
       "5038       2019-5-15  "
      ]
     },
     "execution_count": 4,
     "metadata": {},
     "output_type": "execute_result"
    }
   ],
   "source": [
    "driver_info = pd.read_csv('https://raw.githubusercontent.com/a-milenkin/Competitive_Data_Science/main/data/driver_info.csv')\n",
    "driver_info.sample(5)"
   ]
  },
  {
   "cell_type": "code",
   "execution_count": 5,
   "metadata": {},
   "outputs": [
    {
     "data": {
      "text/html": [
       "<div>\n",
       "<style scoped>\n",
       "    .dataframe tbody tr th:only-of-type {\n",
       "        vertical-align: middle;\n",
       "    }\n",
       "\n",
       "    .dataframe tbody tr th {\n",
       "        vertical-align: top;\n",
       "    }\n",
       "\n",
       "    .dataframe thead th {\n",
       "        text-align: right;\n",
       "    }\n",
       "</style>\n",
       "<table border=\"1\" class=\"dataframe\">\n",
       "  <thead>\n",
       "    <tr style=\"text-align: right;\">\n",
       "      <th></th>\n",
       "      <th>car_id</th>\n",
       "      <th>worker_id</th>\n",
       "      <th>fix_date</th>\n",
       "      <th>work_type</th>\n",
       "      <th>destroy_degree</th>\n",
       "      <th>work_duration</th>\n",
       "    </tr>\n",
       "  </thead>\n",
       "  <tbody>\n",
       "    <tr>\n",
       "      <th>110408</th>\n",
       "      <td>f-1042769Z</td>\n",
       "      <td>RC</td>\n",
       "      <td>2020-12-27 20:30</td>\n",
       "      <td>reparking</td>\n",
       "      <td>1.0</td>\n",
       "      <td>25</td>\n",
       "    </tr>\n",
       "    <tr>\n",
       "      <th>86163</th>\n",
       "      <td>R-6844153a</td>\n",
       "      <td>SH</td>\n",
       "      <td>2019-2-22 1:19</td>\n",
       "      <td>repair</td>\n",
       "      <td>8.2</td>\n",
       "      <td>53</td>\n",
       "    </tr>\n",
       "    <tr>\n",
       "      <th>10194</th>\n",
       "      <td>X-5337958G</td>\n",
       "      <td>FF</td>\n",
       "      <td>2019-9-24 8:37</td>\n",
       "      <td>reparking</td>\n",
       "      <td>1.0</td>\n",
       "      <td>29</td>\n",
       "    </tr>\n",
       "    <tr>\n",
       "      <th>36736</th>\n",
       "      <td>F14063148j</td>\n",
       "      <td>NF</td>\n",
       "      <td>2019-9-28 3:57</td>\n",
       "      <td>refuel</td>\n",
       "      <td>1.0</td>\n",
       "      <td>18</td>\n",
       "    </tr>\n",
       "    <tr>\n",
       "      <th>104071</th>\n",
       "      <td>s13606781f</td>\n",
       "      <td>TF</td>\n",
       "      <td>2019-12-6 14:11</td>\n",
       "      <td>repair</td>\n",
       "      <td>6.0</td>\n",
       "      <td>16</td>\n",
       "    </tr>\n",
       "  </tbody>\n",
       "</table>\n",
       "</div>"
      ],
      "text/plain": [
       "            car_id worker_id          fix_date  work_type  destroy_degree  \\\n",
       "110408  f-1042769Z        RC  2020-12-27 20:30  reparking             1.0   \n",
       "86163   R-6844153a        SH    2019-2-22 1:19     repair             8.2   \n",
       "10194   X-5337958G        FF    2019-9-24 8:37  reparking             1.0   \n",
       "36736   F14063148j        NF    2019-9-28 3:57     refuel             1.0   \n",
       "104071  s13606781f        TF   2019-12-6 14:11     repair             6.0   \n",
       "\n",
       "        work_duration  \n",
       "110408             25  \n",
       "86163              53  \n",
       "10194              29  \n",
       "36736              18  \n",
       "104071             16  "
      ]
     },
     "execution_count": 5,
     "metadata": {},
     "output_type": "execute_result"
    }
   ],
   "source": [
    "fix_info = pd.read_csv('https://raw.githubusercontent.com/a-milenkin/Competitive_Data_Science/main/data/fix_info.csv')\n",
    "fix_info.sample(5)"
   ]
  },
  {
   "cell_type": "markdown",
   "metadata": {},
   "source": [
    "## Основной датасет"
   ]
  },
  {
   "cell_type": "code",
   "execution_count": 6,
   "metadata": {},
   "outputs": [
    {
     "name": "stdout",
     "output_type": "stream",
     "text": [
      "<class 'pandas.core.frame.DataFrame'>\n",
      "RangeIndex: 2337 entries, 0 to 2336\n",
      "Data columns (total 10 columns):\n",
      " #   Column         Non-Null Count  Dtype  \n",
      "---  ------         --------------  -----  \n",
      " 0   car_id         2337 non-null   object \n",
      " 1   model          2337 non-null   object \n",
      " 2   car_type       2337 non-null   object \n",
      " 3   fuel_type      2337 non-null   object \n",
      " 4   car_rating     2337 non-null   float64\n",
      " 5   year_to_start  2337 non-null   int64  \n",
      " 6   riders         2337 non-null   int64  \n",
      " 7   year_to_work   2337 non-null   int64  \n",
      " 8   target_reg     2337 non-null   float64\n",
      " 9   target_class   2337 non-null   object \n",
      "dtypes: float64(2), int64(3), object(5)\n",
      "memory usage: 182.7+ KB\n"
     ]
    }
   ],
   "source": [
    "car_train.info()"
   ]
  },
  {
   "cell_type": "code",
   "execution_count": 6,
   "metadata": {},
   "outputs": [],
   "source": [
    "# 2023 - крайний год. Возраст total_car_age и срок эксплуатации в сервисе автомобиля будут эффективнее, чем номинальная дата\n",
    "car_train['total_car_age'] = 2023 - car_train['year_to_start']\n",
    "car_train['servis_car_age'] = 2023 - car_train['year_to_work']"
   ]
  },
  {
   "cell_type": "code",
   "execution_count": 7,
   "metadata": {},
   "outputs": [],
   "source": [
    "car_train.drop(columns=['year_to_start', 'year_to_work'], inplace=True, errors = 'ignore')"
   ]
  },
  {
   "cell_type": "code",
   "execution_count": 8,
   "metadata": {},
   "outputs": [
    {
     "data": {
      "image/png": "[encoded data removed]",
      "text/plain": [
       "<Figure size 2500x400 with 8 Axes>"
      ]
     },
     "metadata": {},
     "output_type": "display_data"
    }
   ],
   "source": [
    "car_train.hist(figsize=(25, 4), layout=(-1, 4), bins=30);"
   ]
  },
  {
   "cell_type": "markdown",
   "metadata": {},
   "source": [
    "### Информация про поездки"
   ]
  },
  {
   "cell_type": "code",
   "execution_count": 10,
   "metadata": {},
   "outputs": [
    {
     "name": "stdout",
     "output_type": "stream",
     "text": [
      "<class 'pandas.core.frame.DataFrame'>\n",
      "RangeIndex: 739500 entries, 0 to 739499\n",
      "Data columns (total 14 columns):\n",
      " #   Column             Non-Null Count   Dtype  \n",
      "---  ------             --------------   -----  \n",
      " 0   user_id            739500 non-null  object \n",
      " 1   car_id             739500 non-null  object \n",
      " 2   ride_id            739500 non-null  object \n",
      " 3   ride_date          739500 non-null  object \n",
      " 4   rating             739500 non-null  float64\n",
      " 5   ride_duration      739500 non-null  int64  \n",
      " 6   ride_cost          739500 non-null  int64  \n",
      " 7   speed_avg          739500 non-null  int64  \n",
      " 8   speed_max          736139 non-null  float64\n",
      " 9   stop_times         739500 non-null  int64  \n",
      " 10  distance           739500 non-null  float64\n",
      " 11  refueling          739500 non-null  int64  \n",
      " 12  user_ride_quality  736872 non-null  float64\n",
      " 13  deviation_normal   739500 non-null  float64\n",
      "dtypes: float64(5), int64(5), object(4)\n",
      "memory usage: 79.0+ MB\n"
     ]
    }
   ],
   "source": [
    "rides_info.info()"
   ]
  },
  {
   "cell_type": "markdown",
   "metadata": {},
   "source": [
    "speed_max = 736139 non-null от ощего 739500. (739500 - 736139) / 739500 * 100 = 0.45%, что составляет несущественную часть - решение удалить; \n",
    "\n",
    "user_ride_quality = 736872 от ощего 739500. (739500 - 736872) / 739500 * 100 = 0.35%, что составляет несущественную часть - решение удалить"
   ]
  },
  {
   "cell_type": "code",
   "execution_count": 9,
   "metadata": {},
   "outputs": [],
   "source": [
    "rides_info = rides_info.dropna(subset=['speed_max']).reset_index(drop=True)\n",
    "rides_info = rides_info.dropna(subset=['user_ride_quality']).reset_index(drop=True)"
   ]
  },
  {
   "cell_type": "code",
   "execution_count": 10,
   "metadata": {},
   "outputs": [],
   "source": [
    "rides_info['ride_date'] = pd.to_datetime(rides_info['ride_date'])\n",
    "\n",
    "# не нашел применения \n",
    "#rides_info['ride_date'] = rides_info['ride_date'].dt.month"
   ]
  },
  {
   "cell_type": "code",
   "execution_count": 11,
   "metadata": {},
   "outputs": [
    {
     "data": {
      "image/png": "[encoded data removed]",
      "text/plain": [
       "<Figure size 2500x600 with 15 Axes>"
      ]
     },
     "metadata": {},
     "output_type": "display_data"
    }
   ],
   "source": [
    "rides_info.hist(figsize=(25, 6), layout=(-1, 5), bins=30);\n",
    "plt.tight_layout()"
   ]
  },
  {
   "cell_type": "code",
   "execution_count": 12,
   "metadata": {},
   "outputs": [
    {
     "data": {
      "text/html": [
       "<div>\n",
       "<style scoped>\n",
       "    .dataframe tbody tr th:only-of-type {\n",
       "        vertical-align: middle;\n",
       "    }\n",
       "\n",
       "    .dataframe tbody tr th {\n",
       "        vertical-align: top;\n",
       "    }\n",
       "\n",
       "    .dataframe thead th {\n",
       "        text-align: right;\n",
       "    }\n",
       "</style>\n",
       "<table border=\"1\" class=\"dataframe\">\n",
       "  <thead>\n",
       "    <tr style=\"text-align: right;\">\n",
       "      <th></th>\n",
       "      <th>car_id</th>\n",
       "      <th>min_car_rating</th>\n",
       "      <th>mean_car_rating</th>\n",
       "      <th>sum_car_distance</th>\n",
       "      <th>max_car_speed</th>\n",
       "      <th>count_car_rides</th>\n",
       "      <th>upquart_car_speed</th>\n",
       "      <th>start_car_devnorm</th>\n",
       "    </tr>\n",
       "  </thead>\n",
       "  <tbody>\n",
       "    <tr>\n",
       "      <th>2183</th>\n",
       "      <td>b-1380770L</td>\n",
       "      <td>0.10</td>\n",
       "      <td>4.210345</td>\n",
       "      <td>7.769892e+06</td>\n",
       "      <td>201.348447</td>\n",
       "      <td>174</td>\n",
       "      <td>111.886237</td>\n",
       "      <td>-0.793</td>\n",
       "    </tr>\n",
       "    <tr>\n",
       "      <th>2606</th>\n",
       "      <td>g-1126074r</td>\n",
       "      <td>0.10</td>\n",
       "      <td>4.334611</td>\n",
       "      <td>1.089824e+07</td>\n",
       "      <td>100.427616</td>\n",
       "      <td>167</td>\n",
       "      <td>74.365352</td>\n",
       "      <td>4.454</td>\n",
       "    </tr>\n",
       "    <tr>\n",
       "      <th>684</th>\n",
       "      <td>I-7566385U</td>\n",
       "      <td>0.17</td>\n",
       "      <td>5.528333</td>\n",
       "      <td>1.017003e+07</td>\n",
       "      <td>101.689136</td>\n",
       "      <td>174</td>\n",
       "      <td>77.597638</td>\n",
       "      <td>-19.100</td>\n",
       "    </tr>\n",
       "    <tr>\n",
       "      <th>1280</th>\n",
       "      <td>P22575706L</td>\n",
       "      <td>0.10</td>\n",
       "      <td>4.356494</td>\n",
       "      <td>1.439011e+07</td>\n",
       "      <td>163.789275</td>\n",
       "      <td>174</td>\n",
       "      <td>97.896559</td>\n",
       "      <td>-3.349</td>\n",
       "    </tr>\n",
       "    <tr>\n",
       "      <th>4034</th>\n",
       "      <td>x-8934991u</td>\n",
       "      <td>0.10</td>\n",
       "      <td>4.329138</td>\n",
       "      <td>1.884892e+07</td>\n",
       "      <td>189.187556</td>\n",
       "      <td>174</td>\n",
       "      <td>90.589985</td>\n",
       "      <td>1.169</td>\n",
       "    </tr>\n",
       "  </tbody>\n",
       "</table>\n",
       "</div>"
      ],
      "text/plain": [
       "          car_id  min_car_rating  mean_car_rating  sum_car_distance  \\\n",
       "2183  b-1380770L            0.10         4.210345      7.769892e+06   \n",
       "2606  g-1126074r            0.10         4.334611      1.089824e+07   \n",
       "684   I-7566385U            0.17         5.528333      1.017003e+07   \n",
       "1280  P22575706L            0.10         4.356494      1.439011e+07   \n",
       "4034  x-8934991u            0.10         4.329138      1.884892e+07   \n",
       "\n",
       "      max_car_speed  count_car_rides  upquart_car_speed  start_car_devnorm  \n",
       "2183     201.348447              174         111.886237             -0.793  \n",
       "2606     100.427616              167          74.365352              4.454  \n",
       "684      101.689136              174          77.597638            -19.100  \n",
       "1280     163.789275              174          97.896559             -3.349  \n",
       "4034     189.187556              174          90.589985              1.169  "
      ]
     },
     "execution_count": 12,
     "metadata": {},
     "output_type": "execute_result"
    }
   ],
   "source": [
    "speed_max_upper_quartile = lambda x: x.quantile(0.75) # функция подсчета верхнего квантиля\n",
    "rides_info = rides_info.sort_values(by=['car_id', 'ride_date']) # Убедимся, что дата отсортирована\n",
    "\n",
    "# Вычисление первой производной\n",
    "rides_info['deviation_normal_diff'] = rides_info.groupby('car_id')['deviation_normal'].diff()\n",
    "\n",
    "# Порог для определения значительного изменения\n",
    "threshold = rides_info['deviation_normal_diff'].std()\n",
    "\n",
    "# Определение точек перегиба\n",
    "rides_info['shift_car_devnorm'] = np.where(rides_info['deviation_normal_diff'].abs() > threshold, 1, 0)\n",
    "\n",
    "rides_info_gr = rides_info.groupby('car_id', as_index=False).agg(\n",
    "   min_car_rating = ('rating', 'min'),\n",
    "   mean_car_rating = ('rating', 'mean'),\n",
    "   sum_car_distance = ('distance', 'sum'),\n",
    "   max_car_speed = ('speed_max', 'max'),\n",
    "   count_car_rides = ('ride_id', 'count'),\n",
    "   upquart_car_speed = ('speed_max', speed_max_upper_quartile),\n",
    "   start_car_devnorm = ('deviation_normal', 'first')\n",
    ")\n",
    "rides_info_gr.sample(5)"
   ]
  },
  {
   "cell_type": "markdown",
   "metadata": {},
   "source": [
    "## Здесь нужно соеденить rides_info и driver_info (внизу ноутбука) по user_id !!!"
   ]
  },
  {
   "cell_type": "code",
   "execution_count": 26,
   "metadata": {},
   "outputs": [],
   "source": [
    "# Сперва спуститься к driver_info и выполнить ячейки\n",
    "rides_info = rides_info.merge(driver_info_m, on='user_id', how=\"left\")"
   ]
  },
  {
   "cell_type": "code",
   "execution_count": 15,
   "metadata": {},
   "outputs": [],
   "source": [
    "rides_info = rides_info.merge(rides_info_gr, on='car_id', how=\"left\")"
   ]
  },
  {
   "cell_type": "code",
   "execution_count": 28,
   "metadata": {},
   "outputs": [
    {
     "data": {
      "text/plain": [
       "user_id                       0\n",
       "car_id                        0\n",
       "ride_id                       0\n",
       "ride_date                     0\n",
       "rating                        0\n",
       "ride_duration                 0\n",
       "ride_cost                     0\n",
       "speed_avg                     0\n",
       "speed_max                     0\n",
       "stop_times                    0\n",
       "distance                      0\n",
       "refueling                     0\n",
       "user_ride_quality             0\n",
       "deviation_normal              0\n",
       "deviation_normal_diff      4250\n",
       "shift_car_devnorm             0\n",
       "min_car_rating                0\n",
       "mean_car_rating               0\n",
       "sum_car_distance              0\n",
       "max_car_speed                 0\n",
       "count_car_rides               0\n",
       "upquart_car_speed             0\n",
       "start_car_devnorm             0\n",
       "driver_range             103876\n",
       "active_ride              103876\n",
       "accident_rate            103876\n",
       "dtype: int64"
      ]
     },
     "execution_count": 28,
     "metadata": {},
     "output_type": "execute_result"
    }
   ],
   "source": [
    "rides_info.isna().sum()"
   ]
  },
  {
   "cell_type": "code",
   "execution_count": 29,
   "metadata": {},
   "outputs": [],
   "source": [
    "# Заменяем NaN на медиану для всех числовых столбцов\n",
    "for column in rides_info.select_dtypes(include=['number']).columns:\n",
    "    rides_info[column] = rides_info[column].fillna(rides_info[column].median())"
   ]
  },
  {
   "cell_type": "code",
   "execution_count": 30,
   "metadata": {},
   "outputs": [],
   "source": [
    "rides_info_m = rides_info.drop(columns=['deviation_normal_diff' ,'user_id', 'ride_id', 'ride_date', 'rating', 'ride_duration', 'ride_cost', 'speed_avg', 'speed_max', 'stop_times', 'distance', 'refueling', 'user_ride_quality', 'deviation_normal'])"
   ]
  },
  {
   "cell_type": "code",
   "execution_count": 47,
   "metadata": {},
   "outputs": [
    {
     "data": {
      "text/html": [
       "<div>\n",
       "<style scoped>\n",
       "    .dataframe tbody tr th:only-of-type {\n",
       "        vertical-align: middle;\n",
       "    }\n",
       "\n",
       "    .dataframe tbody tr th {\n",
       "        vertical-align: top;\n",
       "    }\n",
       "\n",
       "    .dataframe thead th {\n",
       "        text-align: right;\n",
       "    }\n",
       "</style>\n",
       "<table border=\"1\" class=\"dataframe\">\n",
       "  <thead>\n",
       "    <tr style=\"text-align: right;\">\n",
       "      <th></th>\n",
       "      <th>car_id</th>\n",
       "      <th>shift_car_devnorm</th>\n",
       "      <th>min_car_rating</th>\n",
       "      <th>mean_car_rating</th>\n",
       "      <th>sum_car_distance</th>\n",
       "      <th>max_car_speed</th>\n",
       "      <th>count_car_rides</th>\n",
       "      <th>upquart_car_speed</th>\n",
       "      <th>start_car_devnorm</th>\n",
       "      <th>driver_range</th>\n",
       "      <th>active_ride</th>\n",
       "      <th>accident_rate</th>\n",
       "    </tr>\n",
       "  </thead>\n",
       "  <tbody>\n",
       "    <tr>\n",
       "      <th>0</th>\n",
       "      <td>A-1049127W</td>\n",
       "      <td>0</td>\n",
       "      <td>0.1</td>\n",
       "      <td>4.255172</td>\n",
       "      <td>1.125753e+07</td>\n",
       "      <td>179.729652</td>\n",
       "      <td>174</td>\n",
       "      <td>120.118229</td>\n",
       "      <td>2.909</td>\n",
       "      <td>1196.0</td>\n",
       "      <td>0.190635</td>\n",
       "      <td>0.007525</td>\n",
       "    </tr>\n",
       "    <tr>\n",
       "      <th>1</th>\n",
       "      <td>A-1049127W</td>\n",
       "      <td>0</td>\n",
       "      <td>0.1</td>\n",
       "      <td>4.255172</td>\n",
       "      <td>1.125753e+07</td>\n",
       "      <td>179.729652</td>\n",
       "      <td>174</td>\n",
       "      <td>120.118229</td>\n",
       "      <td>2.909</td>\n",
       "      <td>1398.0</td>\n",
       "      <td>0.709585</td>\n",
       "      <td>0.006438</td>\n",
       "    </tr>\n",
       "    <tr>\n",
       "      <th>2</th>\n",
       "      <td>A-1049127W</td>\n",
       "      <td>0</td>\n",
       "      <td>0.1</td>\n",
       "      <td>4.255172</td>\n",
       "      <td>1.125753e+07</td>\n",
       "      <td>179.729652</td>\n",
       "      <td>174</td>\n",
       "      <td>120.118229</td>\n",
       "      <td>2.909</td>\n",
       "      <td>1658.0</td>\n",
       "      <td>0.992762</td>\n",
       "      <td>0.001809</td>\n",
       "    </tr>\n",
       "  </tbody>\n",
       "</table>\n",
       "</div>"
      ],
      "text/plain": [
       "       car_id  shift_car_devnorm  min_car_rating  mean_car_rating  \\\n",
       "0  A-1049127W                  0             0.1         4.255172   \n",
       "1  A-1049127W                  0             0.1         4.255172   \n",
       "2  A-1049127W                  0             0.1         4.255172   \n",
       "\n",
       "   sum_car_distance  max_car_speed  count_car_rides  upquart_car_speed  \\\n",
       "0      1.125753e+07     179.729652              174         120.118229   \n",
       "1      1.125753e+07     179.729652              174         120.118229   \n",
       "2      1.125753e+07     179.729652              174         120.118229   \n",
       "\n",
       "   start_car_devnorm  driver_range  active_ride  accident_rate  \n",
       "0              2.909        1196.0     0.190635       0.007525  \n",
       "1              2.909        1398.0     0.709585       0.006438  \n",
       "2              2.909        1658.0     0.992762       0.001809  "
      ]
     },
     "execution_count": 47,
     "metadata": {},
     "output_type": "execute_result"
    }
   ],
   "source": [
    "rides_info_m.head(3)"
   ]
  },
  {
   "cell_type": "code",
   "execution_count": 48,
   "metadata": {},
   "outputs": [
    {
     "data": {
      "text/html": [
       "<div>\n",
       "<style scoped>\n",
       "    .dataframe tbody tr th:only-of-type {\n",
       "        vertical-align: middle;\n",
       "    }\n",
       "\n",
       "    .dataframe tbody tr th {\n",
       "        vertical-align: top;\n",
       "    }\n",
       "\n",
       "    .dataframe thead th {\n",
       "        text-align: right;\n",
       "    }\n",
       "</style>\n",
       "<table border=\"1\" class=\"dataframe\">\n",
       "  <thead>\n",
       "    <tr style=\"text-align: right;\">\n",
       "      <th></th>\n",
       "      <th>car_id</th>\n",
       "      <th>shift_car_devnorm</th>\n",
       "      <th>min_car_rating</th>\n",
       "      <th>mean_car_rating</th>\n",
       "      <th>sum_car_distance</th>\n",
       "      <th>max_car_speed</th>\n",
       "      <th>count_car_rides</th>\n",
       "      <th>upquart_car_speed</th>\n",
       "      <th>start_car_devnorm</th>\n",
       "      <th>driver_range</th>\n",
       "      <th>active_ride</th>\n",
       "      <th>accident_rate</th>\n",
       "    </tr>\n",
       "  </thead>\n",
       "  <tbody>\n",
       "    <tr>\n",
       "      <th>1567</th>\n",
       "      <td>S80787227y</td>\n",
       "      <td>0.429412</td>\n",
       "      <td>0.18</td>\n",
       "      <td>4.578765</td>\n",
       "      <td>9.509723e+06</td>\n",
       "      <td>98.795204</td>\n",
       "      <td>170.0</td>\n",
       "      <td>77.000000</td>\n",
       "      <td>-39.803</td>\n",
       "      <td>946.0</td>\n",
       "      <td>0.753440</td>\n",
       "      <td>0.008503</td>\n",
       "    </tr>\n",
       "    <tr>\n",
       "      <th>1130</th>\n",
       "      <td>N62378224U</td>\n",
       "      <td>0.011494</td>\n",
       "      <td>0.10</td>\n",
       "      <td>4.006839</td>\n",
       "      <td>1.407468e+07</td>\n",
       "      <td>193.623523</td>\n",
       "      <td>174.0</td>\n",
       "      <td>97.455091</td>\n",
       "      <td>-0.932</td>\n",
       "      <td>1097.0</td>\n",
       "      <td>0.729018</td>\n",
       "      <td>0.007975</td>\n",
       "    </tr>\n",
       "    <tr>\n",
       "      <th>3772</th>\n",
       "      <td>u-2940182P</td>\n",
       "      <td>0.040230</td>\n",
       "      <td>0.10</td>\n",
       "      <td>4.735690</td>\n",
       "      <td>9.790528e+06</td>\n",
       "      <td>130.745097</td>\n",
       "      <td>174.0</td>\n",
       "      <td>88.392647</td>\n",
       "      <td>-3.964</td>\n",
       "      <td>1097.0</td>\n",
       "      <td>0.729018</td>\n",
       "      <td>0.007975</td>\n",
       "    </tr>\n",
       "  </tbody>\n",
       "</table>\n",
       "</div>"
      ],
      "text/plain": [
       "          car_id  shift_car_devnorm  min_car_rating  mean_car_rating  \\\n",
       "1567  S80787227y           0.429412            0.18         4.578765   \n",
       "1130  N62378224U           0.011494            0.10         4.006839   \n",
       "3772  u-2940182P           0.040230            0.10         4.735690   \n",
       "\n",
       "      sum_car_distance  max_car_speed  count_car_rides  upquart_car_speed  \\\n",
       "1567      9.509723e+06      98.795204            170.0          77.000000   \n",
       "1130      1.407468e+07     193.623523            174.0          97.455091   \n",
       "3772      9.790528e+06     130.745097            174.0          88.392647   \n",
       "\n",
       "      start_car_devnorm  driver_range  active_ride  accident_rate  \n",
       "1567            -39.803         946.0     0.753440       0.008503  \n",
       "1130             -0.932        1097.0     0.729018       0.007975  \n",
       "3772             -3.964        1097.0     0.729018       0.007975  "
      ]
     },
     "execution_count": 48,
     "metadata": {},
     "output_type": "execute_result"
    }
   ],
   "source": [
    "# Агрегирую признаки, чтобы избежать мультиплицирования строк\n",
    "rides_info_aggregated = rides_info_m.groupby('car_id').agg({\n",
    "    'shift_car_devnorm': 'mean',\n",
    "    'min_car_rating': 'min',\n",
    "    'mean_car_rating': 'mean',\n",
    "    'sum_car_distance': 'mean',\n",
    "    'max_car_speed': 'max',\n",
    "    'count_car_rides': 'mean',\n",
    "    'upquart_car_speed': 'mean',\n",
    "    'start_car_devnorm': 'mean',\n",
    "    'driver_range': 'median',\n",
    "    'active_ride': 'median',\n",
    "    'accident_rate': 'median'\n",
    "}).reset_index()\n",
    "rides_info_aggregated.sample(3)"
   ]
  },
  {
   "cell_type": "code",
   "execution_count": 50,
   "metadata": {},
   "outputs": [],
   "source": [
    "base_dt = car_train.merge(rides_info_aggregated, on='car_id', how=\"left\")"
   ]
  },
  {
   "cell_type": "markdown",
   "metadata": {},
   "source": [
    "### Информация про ремонт машин"
   ]
  },
  {
   "cell_type": "code",
   "execution_count": 21,
   "metadata": {},
   "outputs": [
    {
     "name": "stdout",
     "output_type": "stream",
     "text": [
      "<class 'pandas.core.frame.DataFrame'>\n",
      "RangeIndex: 146000 entries, 0 to 145999\n",
      "Data columns (total 6 columns):\n",
      " #   Column          Non-Null Count   Dtype  \n",
      "---  ------          --------------   -----  \n",
      " 0   car_id          146000 non-null  object \n",
      " 1   worker_id       146000 non-null  object \n",
      " 2   fix_date        146000 non-null  object \n",
      " 3   work_type       146000 non-null  object \n",
      " 4   destroy_degree  146000 non-null  float64\n",
      " 5   work_duration   146000 non-null  int64  \n",
      "dtypes: float64(1), int64(1), object(4)\n",
      "memory usage: 6.7+ MB\n"
     ]
    }
   ],
   "source": [
    "fix_info.info()"
   ]
  },
  {
   "cell_type": "code",
   "execution_count": 53,
   "metadata": {},
   "outputs": [
    {
     "data": {
      "image/png": "[encoded data removed]",
      "text/plain": [
       "<Figure size 2500x400 with 8 Axes>"
      ]
     },
     "metadata": {},
     "output_type": "display_data"
    }
   ],
   "source": [
    "fix_info['fix_date'] = pd.to_datetime(fix_info['fix_date'], errors='coerce')\n",
    "fix_info['fix_month'] = fix_info['fix_date'].dt.month\n",
    "\n",
    "fix_info.hist(figsize=(25, 4), layout=(2, 4), bins=30);"
   ]
  },
  {
   "cell_type": "code",
   "execution_count": 54,
   "metadata": {},
   "outputs": [
    {
     "data": {
      "text/html": [
       "<div>\n",
       "<style scoped>\n",
       "    .dataframe tbody tr th:only-of-type {\n",
       "        vertical-align: middle;\n",
       "    }\n",
       "\n",
       "    .dataframe tbody tr th {\n",
       "        vertical-align: top;\n",
       "    }\n",
       "\n",
       "    .dataframe thead th {\n",
       "        text-align: right;\n",
       "    }\n",
       "</style>\n",
       "<table border=\"1\" class=\"dataframe\">\n",
       "  <thead>\n",
       "    <tr style=\"text-align: right;\">\n",
       "      <th></th>\n",
       "      <th>car_id</th>\n",
       "      <th>worker_id</th>\n",
       "      <th>fix_date</th>\n",
       "      <th>work_type</th>\n",
       "      <th>destroy_degree</th>\n",
       "      <th>work_duration</th>\n",
       "      <th>fix_month</th>\n",
       "      <th>worker_experience</th>\n",
       "      <th>work_meanduration_car</th>\n",
       "      <th>month_top_carfix</th>\n",
       "    </tr>\n",
       "  </thead>\n",
       "  <tbody>\n",
       "    <tr>\n",
       "      <th>118033</th>\n",
       "      <td>J22037391Y</td>\n",
       "      <td>FO</td>\n",
       "      <td>2019-07-10 06:59:00</td>\n",
       "      <td>repair</td>\n",
       "      <td>6.5</td>\n",
       "      <td>27</td>\n",
       "      <td>7.0</td>\n",
       "      <td>255</td>\n",
       "      <td>28.558824</td>\n",
       "      <td>2.0</td>\n",
       "    </tr>\n",
       "    <tr>\n",
       "      <th>116650</th>\n",
       "      <td>R37055375H</td>\n",
       "      <td>TS</td>\n",
       "      <td>2020-08-25 18:23:00</td>\n",
       "      <td>reparking</td>\n",
       "      <td>1.0</td>\n",
       "      <td>31</td>\n",
       "      <td>8.0</td>\n",
       "      <td>282</td>\n",
       "      <td>26.235294</td>\n",
       "      <td>10.0</td>\n",
       "    </tr>\n",
       "    <tr>\n",
       "      <th>113092</th>\n",
       "      <td>i11748425a</td>\n",
       "      <td>UO</td>\n",
       "      <td>2019-11-08 03:42:00</td>\n",
       "      <td>reparking</td>\n",
       "      <td>1.0</td>\n",
       "      <td>23</td>\n",
       "      <td>11.0</td>\n",
       "      <td>273</td>\n",
       "      <td>25.117647</td>\n",
       "      <td>11.0</td>\n",
       "    </tr>\n",
       "  </tbody>\n",
       "</table>\n",
       "</div>"
      ],
      "text/plain": [
       "            car_id worker_id            fix_date  work_type  destroy_degree  \\\n",
       "118033  J22037391Y        FO 2019-07-10 06:59:00     repair             6.5   \n",
       "116650  R37055375H        TS 2020-08-25 18:23:00  reparking             1.0   \n",
       "113092  i11748425a        UO 2019-11-08 03:42:00  reparking             1.0   \n",
       "\n",
       "        work_duration  fix_month  worker_experience  work_meanduration_car  \\\n",
       "118033             27        7.0                255              28.558824   \n",
       "116650             31        8.0                282              26.235294   \n",
       "113092             23       11.0                273              25.117647   \n",
       "\n",
       "        month_top_carfix  \n",
       "118033               2.0  \n",
       "116650              10.0  \n",
       "113092              11.0  "
      ]
     },
     "execution_count": 54,
     "metadata": {},
     "output_type": "execute_result"
    }
   ],
   "source": [
    "#av_destrdegree_per_work_type = fix_info.groupby('work_type')['destroy_degree'].mean()\n",
    "#fix_info['av_destrdegree_per_work_type'] = fix_info['work_type'].map(av_destrdegree_per_work_type)\n",
    "\n",
    "fix_info[\"worker_experience\"] = fix_info.groupby(\"worker_id\")[\"car_id\"].transform(\"count\")\n",
    "\n",
    "fix_info['work_meanduration_car'] = fix_info.groupby(\"car_id\")[\"work_duration\"].transform(\"mean\")\n",
    "\n",
    "fix_info['month_top_carfix'] = fix_info.groupby(\"car_id\")[\"fix_month\"].transform(lambda x: x.mode().iloc[0])\n",
    "\n",
    "fix_info.sample(3)"
   ]
  },
  {
   "cell_type": "code",
   "execution_count": 55,
   "metadata": {},
   "outputs": [],
   "source": [
    "fix_info_m = fix_info.drop(columns=['worker_id', 'fix_month', 'fix_date', 'destroy_degree', 'work_duration', 'work_type'])"
   ]
  },
  {
   "cell_type": "code",
   "execution_count": 58,
   "metadata": {},
   "outputs": [
    {
     "data": {
      "text/html": [
       "<div>\n",
       "<style scoped>\n",
       "    .dataframe tbody tr th:only-of-type {\n",
       "        vertical-align: middle;\n",
       "    }\n",
       "\n",
       "    .dataframe tbody tr th {\n",
       "        vertical-align: top;\n",
       "    }\n",
       "\n",
       "    .dataframe thead th {\n",
       "        text-align: right;\n",
       "    }\n",
       "</style>\n",
       "<table border=\"1\" class=\"dataframe\">\n",
       "  <thead>\n",
       "    <tr style=\"text-align: right;\">\n",
       "      <th></th>\n",
       "      <th>car_id</th>\n",
       "      <th>worker_experience</th>\n",
       "      <th>work_meanduration_car</th>\n",
       "      <th>month_top_carfix</th>\n",
       "    </tr>\n",
       "  </thead>\n",
       "  <tbody>\n",
       "    <tr>\n",
       "      <th>3981</th>\n",
       "      <td>w17370680J</td>\n",
       "      <td>274.057143</td>\n",
       "      <td>28.514286</td>\n",
       "      <td>10.0</td>\n",
       "    </tr>\n",
       "    <tr>\n",
       "      <th>2250</th>\n",
       "      <td>b17685766M</td>\n",
       "      <td>267.823529</td>\n",
       "      <td>26.000000</td>\n",
       "      <td>11.0</td>\n",
       "    </tr>\n",
       "    <tr>\n",
       "      <th>2180</th>\n",
       "      <td>b-1232634R</td>\n",
       "      <td>271.705882</td>\n",
       "      <td>23.705882</td>\n",
       "      <td>1.0</td>\n",
       "    </tr>\n",
       "  </tbody>\n",
       "</table>\n",
       "</div>"
      ],
      "text/plain": [
       "          car_id  worker_experience  work_meanduration_car  month_top_carfix\n",
       "3981  w17370680J         274.057143              28.514286              10.0\n",
       "2250  b17685766M         267.823529              26.000000              11.0\n",
       "2180  b-1232634R         271.705882              23.705882               1.0"
      ]
     },
     "execution_count": 58,
     "metadata": {},
     "output_type": "execute_result"
    }
   ],
   "source": [
    "fix_info_agr = fix_info_m.groupby('car_id').agg({\n",
    "   'worker_experience': 'mean',\n",
    "   'work_meanduration_car': 'mean',\n",
    "   'month_top_carfix': 'max'\n",
    "}).reset_index()\n",
    "fix_info_agr.sample(3)"
   ]
  },
  {
   "cell_type": "code",
   "execution_count": 59,
   "metadata": {},
   "outputs": [],
   "source": [
    "base_dt = base_dt.merge(fix_info_agr, on='car_id', how=\"left\")"
   ]
  },
  {
   "cell_type": "markdown",
   "metadata": {},
   "source": [
    "### Информация про водителей"
   ]
  },
  {
   "cell_type": "code",
   "execution_count": 17,
   "metadata": {},
   "outputs": [
    {
     "name": "stdout",
     "output_type": "stream",
     "text": [
      "<class 'pandas.core.frame.DataFrame'>\n",
      "RangeIndex: 15153 entries, 0 to 15152\n",
      "Data columns (total 7 columns):\n",
      " #   Column              Non-Null Count  Dtype  \n",
      "---  ------              --------------  -----  \n",
      " 0   age                 15153 non-null  int64  \n",
      " 1   user_rating         15153 non-null  float64\n",
      " 2   user_rides          15153 non-null  int64  \n",
      " 3   user_time_accident  14182 non-null  float64\n",
      " 4   user_id             15153 non-null  object \n",
      " 5   sex                 15153 non-null  int64  \n",
      " 6   first_ride_date     15153 non-null  object \n",
      "dtypes: float64(2), int64(3), object(2)\n",
      "memory usage: 828.8+ KB\n"
     ]
    }
   ],
   "source": [
    "driver_info.info()"
   ]
  },
  {
   "cell_type": "markdown",
   "metadata": {},
   "source": [
    "(user_id = 15153 - user_time_accident = 14182) / 15153 *100 = 6.4% - составляет значительную часть, но и сам признак user_time_accident является важным"
   ]
  },
  {
   "cell_type": "code",
   "execution_count": 18,
   "metadata": {},
   "outputs": [],
   "source": [
    "driver_info = driver_info.dropna(subset=['user_time_accident']).reset_index(drop=True)\n",
    "\n",
    "driver_info['first_ride_date'] = pd.to_datetime(driver_info['first_ride_date'], errors='coerce')"
   ]
  },
  {
   "cell_type": "code",
   "execution_count": 19,
   "metadata": {},
   "outputs": [
    {
     "data": {
      "image/png": "[encoded data removed]",
      "text/plain": [
       "<Figure size 2500x400 with 6 Axes>"
      ]
     },
     "metadata": {},
     "output_type": "display_data"
    }
   ],
   "source": [
    "driver_info.hist(figsize=(25, 4), layout=(2, 3), bins=30);"
   ]
  },
  {
   "cell_type": "code",
   "execution_count": 20,
   "metadata": {},
   "outputs": [],
   "source": [
    "from pandas import Timedelta\n",
    "\n",
    "max_ride_date = driver_info['first_ride_date'].max() + Timedelta(days=1) # Макс дата начала использования сервиса водителем. Добавляю 1 день, чтобы избежать деления на 0 в driver_range\n",
    "\n",
    "driver_info['driver_range'] = (max_ride_date - driver_info['first_ride_date']).dt.days \n",
    "\n",
    "driver_info['active_ride'] = driver_info['user_rides'] / driver_info['driver_range']\n",
    "\n",
    "driver_info['accident_rate'] = driver_info['user_time_accident'] / driver_info['driver_range']\n",
    "#driver_info['driver_range'] = driver_info['driver_range'].apply(get_range)"
   ]
  },
  {
   "cell_type": "code",
   "execution_count": 22,
   "metadata": {},
   "outputs": [
    {
     "data": {
      "text/html": [
       "<div>\n",
       "<style scoped>\n",
       "    .dataframe tbody tr th:only-of-type {\n",
       "        vertical-align: middle;\n",
       "    }\n",
       "\n",
       "    .dataframe tbody tr th {\n",
       "        vertical-align: top;\n",
       "    }\n",
       "\n",
       "    .dataframe thead th {\n",
       "        text-align: right;\n",
       "    }\n",
       "</style>\n",
       "<table border=\"1\" class=\"dataframe\">\n",
       "  <thead>\n",
       "    <tr style=\"text-align: right;\">\n",
       "      <th></th>\n",
       "      <th>age</th>\n",
       "      <th>user_rating</th>\n",
       "      <th>user_rides</th>\n",
       "      <th>user_time_accident</th>\n",
       "      <th>user_id</th>\n",
       "      <th>sex</th>\n",
       "      <th>first_ride_date</th>\n",
       "      <th>driver_range</th>\n",
       "      <th>active_ride</th>\n",
       "      <th>accident_rate</th>\n",
       "    </tr>\n",
       "  </thead>\n",
       "  <tbody>\n",
       "    <tr>\n",
       "      <th>8624</th>\n",
       "      <td>25</td>\n",
       "      <td>8.4</td>\n",
       "      <td>762</td>\n",
       "      <td>9.0</td>\n",
       "      <td>u88167236N</td>\n",
       "      <td>1</td>\n",
       "      <td>2020-09-02</td>\n",
       "      <td>844.0</td>\n",
       "      <td>0.902844</td>\n",
       "      <td>0.010664</td>\n",
       "    </tr>\n",
       "    <tr>\n",
       "      <th>5191</th>\n",
       "      <td>24</td>\n",
       "      <td>8.6</td>\n",
       "      <td>63</td>\n",
       "      <td>18.0</td>\n",
       "      <td>M10932668d</td>\n",
       "      <td>1</td>\n",
       "      <td>2020-02-27</td>\n",
       "      <td>1032.0</td>\n",
       "      <td>0.061047</td>\n",
       "      <td>0.017442</td>\n",
       "    </tr>\n",
       "    <tr>\n",
       "      <th>12093</th>\n",
       "      <td>18</td>\n",
       "      <td>8.4</td>\n",
       "      <td>950</td>\n",
       "      <td>9.0</td>\n",
       "      <td>E19408584w</td>\n",
       "      <td>1</td>\n",
       "      <td>2020-10-19</td>\n",
       "      <td>797.0</td>\n",
       "      <td>1.191970</td>\n",
       "      <td>0.011292</td>\n",
       "    </tr>\n",
       "    <tr>\n",
       "      <th>7353</th>\n",
       "      <td>48</td>\n",
       "      <td>7.5</td>\n",
       "      <td>31</td>\n",
       "      <td>6.0</td>\n",
       "      <td>Y29957117K</td>\n",
       "      <td>0</td>\n",
       "      <td>2019-11-23</td>\n",
       "      <td>1128.0</td>\n",
       "      <td>0.027482</td>\n",
       "      <td>0.005319</td>\n",
       "    </tr>\n",
       "    <tr>\n",
       "      <th>7038</th>\n",
       "      <td>42</td>\n",
       "      <td>8.6</td>\n",
       "      <td>715</td>\n",
       "      <td>17.0</td>\n",
       "      <td>t12994482H</td>\n",
       "      <td>0</td>\n",
       "      <td>2019-05-10</td>\n",
       "      <td>1325.0</td>\n",
       "      <td>0.539623</td>\n",
       "      <td>0.012830</td>\n",
       "    </tr>\n",
       "  </tbody>\n",
       "</table>\n",
       "</div>"
      ],
      "text/plain": [
       "       age  user_rating  user_rides  user_time_accident     user_id  sex  \\\n",
       "8624    25          8.4         762                 9.0  u88167236N    1   \n",
       "5191    24          8.6          63                18.0  M10932668d    1   \n",
       "12093   18          8.4         950                 9.0  E19408584w    1   \n",
       "7353    48          7.5          31                 6.0  Y29957117K    0   \n",
       "7038    42          8.6         715                17.0  t12994482H    0   \n",
       "\n",
       "      first_ride_date  driver_range  active_ride  accident_rate  \n",
       "8624       2020-09-02         844.0     0.902844       0.010664  \n",
       "5191       2020-02-27        1032.0     0.061047       0.017442  \n",
       "12093      2020-10-19         797.0     1.191970       0.011292  \n",
       "7353       2019-11-23        1128.0     0.027482       0.005319  \n",
       "7038       2019-05-10        1325.0     0.539623       0.012830  "
      ]
     },
     "execution_count": 22,
     "metadata": {},
     "output_type": "execute_result"
    }
   ],
   "source": [
    "driver_info.sample(5)"
   ]
  },
  {
   "cell_type": "code",
   "execution_count": 21,
   "metadata": {},
   "outputs": [],
   "source": [
    "driver_info_m = driver_info.drop(columns=['sex', 'age', 'user_rating', 'user_rides', 'user_time_accident', 'first_ride_date'])"
   ]
  },
  {
   "cell_type": "code",
   "execution_count": 22,
   "metadata": {},
   "outputs": [
    {
     "name": "stdout",
     "output_type": "stream",
     "text": [
      "<class 'pandas.core.frame.DataFrame'>\n",
      "RangeIndex: 14182 entries, 0 to 14181\n",
      "Data columns (total 4 columns):\n",
      " #   Column         Non-Null Count  Dtype  \n",
      "---  ------         --------------  -----  \n",
      " 0   user_id        14182 non-null  object \n",
      " 1   driver_range   14083 non-null  float64\n",
      " 2   active_ride    14083 non-null  float64\n",
      " 3   accident_rate  14083 non-null  float64\n",
      "dtypes: float64(3), object(1)\n",
      "memory usage: 443.3+ KB\n"
     ]
    }
   ],
   "source": [
    "driver_info_m.info()"
   ]
  },
  {
   "cell_type": "code",
   "execution_count": 23,
   "metadata": {},
   "outputs": [],
   "source": [
    "driver_info_m = driver_info_m.dropna(subset=['driver_range', 'active_ride', 'accident_rate']).reset_index(drop=True)\n"
   ]
  },
  {
   "cell_type": "code",
   "execution_count": null,
   "metadata": {},
   "outputs": [],
   "source": []
  },
  {
   "cell_type": "code",
   "execution_count": 60,
   "metadata": {},
   "outputs": [
    {
     "name": "stdout",
     "output_type": "stream",
     "text": [
      "<class 'pandas.core.frame.DataFrame'>\n",
      "RangeIndex: 2337 entries, 0 to 2336\n",
      "Data columns (total 24 columns):\n",
      " #   Column                 Non-Null Count  Dtype  \n",
      "---  ------                 --------------  -----  \n",
      " 0   car_id                 2337 non-null   object \n",
      " 1   model                  2337 non-null   object \n",
      " 2   car_type               2337 non-null   object \n",
      " 3   fuel_type              2337 non-null   object \n",
      " 4   car_rating             2337 non-null   float64\n",
      " 5   riders                 2337 non-null   int64  \n",
      " 6   target_reg             2337 non-null   float64\n",
      " 7   target_class           2337 non-null   object \n",
      " 8   total_car_age          2337 non-null   int64  \n",
      " 9   servis_car_age         2337 non-null   int64  \n",
      " 10  shift_car_devnorm      2337 non-null   float64\n",
      " 11  min_car_rating         2337 non-null   float64\n",
      " 12  mean_car_rating        2337 non-null   float64\n",
      " 13  sum_car_distance       2337 non-null   float64\n",
      " 14  max_car_speed          2337 non-null   float64\n",
      " 15  count_car_rides        2337 non-null   float64\n",
      " 16  upquart_car_speed      2337 non-null   float64\n",
      " 17  start_car_devnorm      2337 non-null   float64\n",
      " 18  driver_range           2337 non-null   float64\n",
      " 19  active_ride            2337 non-null   float64\n",
      " 20  accident_rate          2337 non-null   float64\n",
      " 21  worker_experience      2337 non-null   float64\n",
      " 22  work_meanduration_car  2337 non-null   float64\n",
      " 23  month_top_carfix       2337 non-null   float64\n",
      "dtypes: float64(16), int64(3), object(5)\n",
      "memory usage: 438.3+ KB\n"
     ]
    }
   ],
   "source": [
    "pd.set_option('display.max_info_columns', 25)\n",
    "base_dt.info(show_counts=True)"
   ]
  },
  {
   "cell_type": "code",
   "execution_count": 62,
   "metadata": {},
   "outputs": [],
   "source": [
    "base_dt.to_csv('base_dt.csv', index=False)"
   ]
  }
 ],
 "metadata": {
  "language_info": {
   "name": "python"
  }
 },
 "nbformat": 4,
 "nbformat_minor": 2
}
